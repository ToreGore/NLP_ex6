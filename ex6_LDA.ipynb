{
  "nbformat": 4,
  "nbformat_minor": 0,
  "metadata": {
    "kernelspec": {
      "display_name": "Python 3",
      "language": "python",
      "name": "python3"
    },
    "language_info": {
      "codemirror_mode": {
        "name": "ipython",
        "version": 3
      },
      "file_extension": ".py",
      "mimetype": "text/x-python",
      "name": "python",
      "nbconvert_exporter": "python",
      "pygments_lexer": "ipython3",
      "version": "3.7.9"
    },
    "colab": {
      "name": "ex6_LDA.ipynb",
      "provenance": [],
      "collapsed_sections": []
    }
  },
  "cells": [
    {
      "cell_type": "markdown",
      "metadata": {
        "id": "z208NBc1lC1k"
      },
      "source": [
        "# Starting Code for Exercise 6\n",
        "\n",
        "### Import Modules and Download Data"
      ]
    },
    {
      "cell_type": "code",
      "metadata": {
        "id": "Vl6Ajcuu5DvW"
      },
      "source": [
        "import re\n",
        "import nltk\n",
        "import requests\n",
        "import pandas as pd\n",
        "\n",
        "from tqdm import tqdm\n",
        "from io import StringIO\n",
        "from gensim.models import LdaModel\n",
        "from nltk.stem.porter import PorterStemmer\n",
        "from gensim.corpora.dictionary import Dictionary\n",
        "from sklearn.metrics.pairwise import cosine_similarity\n",
        "from sklearn.feature_extraction.text import TfidfVectorizer\n",
        "\n",
        "pd.set_option('display.max_colwidth', None)"
      ],
      "execution_count": null,
      "outputs": []
    },
    {
      "cell_type": "markdown",
      "metadata": {
        "id": "_A-OspyGwSNT"
      },
      "source": [
        "### Function definition section"
      ]
    },
    {
      "cell_type": "markdown",
      "metadata": {
        "id": "8kaYln_2188j"
      },
      "source": [
        "#### Text Preprocessing functions"
      ]
    },
    {
      "cell_type": "code",
      "metadata": {
        "id": "OIERWNb42AdI"
      },
      "source": [
        "def prep_process_tokenize(text):\r\n",
        "    #websites, email and any punctuation cleaning\r\n",
        "    text = re.sub(\"((\\S+)?(http(s)?)(\\S+))|((\\S+)?(www)(\\S+))|((\\S+)?(\\@)(\\S+)?)\", \" \", text)\r\n",
        "    text = re.sub(\"[^a-zA-Z ]\", \"\", text)\r\n",
        "    text = text.lower() # lower case the text\r\n",
        "    text = nltk.word_tokenize(text)\r\n",
        "    #removing stopwords\r\n",
        "    text = [word for word in text if word not in stopwords]\r\n",
        "    #stemming\r\n",
        "    try:\r\n",
        "        text = [stemmer.stem(word) for word in text]\r\n",
        "        text = [word for word in text if len(word) > 1]\r\n",
        "    except IndexError:\r\n",
        "        pass\r\n",
        "    return text"
      ],
      "execution_count": null,
      "outputs": []
    },
    {
      "cell_type": "code",
      "metadata": {
        "id": "mXkFky-f2CND"
      },
      "source": [
        "def pre_process(text):\r\n",
        "    return \" \".join(prep_process_tokenize(text))"
      ],
      "execution_count": null,
      "outputs": []
    },
    {
      "cell_type": "markdown",
      "metadata": {
        "id": "PO9Qh32Rw3WI"
      },
      "source": [
        "#### Training LDA Model function"
      ]
    },
    {
      "cell_type": "code",
      "metadata": {
        "id": "mJ0sYMyiwVFs"
      },
      "source": [
        "def train_lda(data, num_topics, chunksize):\r\n",
        "  num_topics = num_topics\r\n",
        "  chunksize = chunksize\r\n",
        "  dictionary = corpora.Dictionary(data['tokenized'])\r\n",
        "\r\n",
        "  corpus = [dictionary.doc2bow(doc) for doc in data['tokenized']]\r\n",
        "  lda = LdaModel(corpus=corpus, num_topics=num_topics, id2word=dictionary, alpha=1e-2, eta=0.5e-2, chunksize=chunksize)\r\n",
        "  \r\n",
        "  return lda, dictionary, corpus"
      ],
      "execution_count": null,
      "outputs": []
    },
    {
      "cell_type": "markdown",
      "metadata": {
        "id": "yFZFU9l8w9aK"
      },
      "source": [
        "#### Jensen Shannon function"
      ]
    },
    {
      "cell_type": "code",
      "metadata": {
        "id": "g4FfWyVRwU-A"
      },
      "source": [
        "def jensen_shannon(query, matrix, num_topics, num_documents):\r\n",
        "    p = np.matrix([query for i in range(num_documents)]).T\r\n",
        "    q = matrix.T #3 * 2000\r\n",
        "    m = 0.5*(p + q)\r\n",
        "    return np.sqrt(0.5*(entropy(p, m) + entropy(q, m)))"
      ],
      "execution_count": null,
      "outputs": []
    },
    {
      "cell_type": "code",
      "metadata": {
        "id": "As8P_28OwUu1"
      },
      "source": [
        "def get_top_k_similar_docs(query, matrix, num_topics, num_documents, k=10):\r\n",
        "    sims = jensen_shannon(query, matrix, num_topics, num_documents)\r\n",
        "    return sims.argsort()[:k]"
      ],
      "execution_count": null,
      "outputs": []
    },
    {
      "cell_type": "markdown",
      "metadata": {
        "id": "6iQ-bEDIxHFU"
      },
      "source": [
        "#### Matrix padding function\r\n",
        "This must be used in order to make things work. <br>\r\n",
        "Nice and tidy. <br>\r\n",
        "It pads. <br>\r\n",
        "Nothing more, nothing less."
      ]
    },
    {
      "cell_type": "code",
      "metadata": {
        "id": "LPxu0tftxHj1"
      },
      "source": [
        "def matpad(docmat, num_topics):\r\n",
        "  stub_mat = []\r\n",
        "  for doc in docmat:\r\n",
        "    present = set(map(lambda x: x[0], doc))\r\n",
        "    if present == num_topics:\r\n",
        "      stub_mat.append(doc)\r\n",
        "      continue\r\n",
        "    topic_sum = sum(map(lambda x: x[1], doc))\r\n",
        "    reminders = (1 - topic_sum) / (num_topics - len(present))\r\n",
        "    d_doc = dict(doc)\r\n",
        "    stub_mat.append([d_doc[i] if i in present else reminders for i in range(num_topics)])\r\n",
        "  return np.asarray(stub_mat)"
      ],
      "execution_count": null,
      "outputs": []
    },
    {
      "cell_type": "markdown",
      "metadata": {
        "id": "77kZ6Lf2wVpl"
      },
      "source": [
        "# Starting code for Exercise 6"
      ]
    },
    {
      "cell_type": "code",
      "metadata": {
        "id": "TBb5tcJo0yla"
      },
      "source": [
        "url_data = 'https://docs.google.com/spreadsheets/d/e/2PACX-1vTxbA16lnYbtH-j6PPrPogc6ft03gp0y5mmo1Nq3l-Pxnb05nP1C-mOxUYvTciA2gq5nkwAqz9Y7Imi/pub?gid=646892609&single=true&output=tsv'"
      ],
      "execution_count": null,
      "outputs": []
    },
    {
      "cell_type": "code",
      "metadata": {
        "id": "Z8SjmfcV1DeK"
      },
      "source": [
        "def load_dataset(url):\n",
        "    r = requests.get(url)\n",
        "    data = r.content.decode('utf8')\n",
        "    df = pd.read_csv(StringIO(data), sep='\\t')\n",
        "    return df"
      ],
      "execution_count": null,
      "outputs": []
    },
    {
      "cell_type": "code",
      "metadata": {
        "id": "a0GBCr4n1HC2"
      },
      "source": [
        "df = load_dataset(url_data)"
      ],
      "execution_count": null,
      "outputs": []
    },
    {
      "cell_type": "markdown",
      "metadata": {
        "id": "ilWbGgob6D6r"
      },
      "source": [
        "### Inspect the Dataset"
      ]
    },
    {
      "cell_type": "code",
      "metadata": {
        "colab": {
          "base_uri": "https://localhost:8080/",
          "height": 1000
        },
        "id": "ovk-XSF36Ti3",
        "outputId": "d97f8b88-3826-4480-f5f4-c0f48aa544a9"
      },
      "source": [
        "df.head(15)"
      ],
      "execution_count": null,
      "outputs": [
        {
          "output_type": "execute_result",
          "data": {
            "text/html": [
              "<div>\n",
              "<style scoped>\n",
              "    .dataframe tbody tr th:only-of-type {\n",
              "        vertical-align: middle;\n",
              "    }\n",
              "\n",
              "    .dataframe tbody tr th {\n",
              "        vertical-align: top;\n",
              "    }\n",
              "\n",
              "    .dataframe thead th {\n",
              "        text-align: right;\n",
              "    }\n",
              "</style>\n",
              "<table border=\"1\" class=\"dataframe\">\n",
              "  <thead>\n",
              "    <tr style=\"text-align: right;\">\n",
              "      <th></th>\n",
              "      <th>name</th>\n",
              "      <th>description</th>\n",
              "      <th>country</th>\n",
              "      <th>founding_date</th>\n",
              "      <th>relevancy</th>\n",
              "    </tr>\n",
              "  </thead>\n",
              "  <tbody>\n",
              "    <tr>\n",
              "      <th>0</th>\n",
              "      <td>Pandora Car Rental</td>\n",
              "      <td>Welcome to Pandora Car Rental, Car Hire and Airport Transfers based in Dalaman Turkey.  We have a wide range of cars to suit all budgets and can deliver your car for free anytime day or night within the Dalaman locality.   Reasons to Book Car from Pandora Car Rental:  Unlimited Milage VAT All Local Taxes Airport Service Charge where applicable 24 hours Road Service Third Party Insurance with NO Excess Theft Insurance with NO Excess Fire Insurance with NO Excess FDW Insurance with NO Excess CDW Collision Damage Waiver with NO Excess TWH Tyre Windscreen Headlight Insurance with NO Excess 3 Additional Drivers Child/Baby Seat (must be ordered) No Hidden Extras   Address: Hadrian Flats Number 4  Wellington Telford  Pin Code: TF11RQ Tel:  + 44 776 558 66 77  Website: http://www.dalamancarrental.com</td>\n",
              "      <td>United Kingdom</td>\n",
              "      <td>2011-04-05</td>\n",
              "      <td>0</td>\n",
              "    </tr>\n",
              "    <tr>\n",
              "      <th>1</th>\n",
              "      <td>SurplusMatch</td>\n",
              "      <td>SurplusMatch is an online marketplace for contractors, Merchants and Manufacturers to buy and sell old stocks, end of line, slight seconds and site surplus materials. Sellers list the details of stock, buyers browse and order the materials and SurplusMatch delivers them while maintaining the anonymity of the seller.</td>\n",
              "      <td>United Kingdom</td>\n",
              "      <td>2008-01-01</td>\n",
              "      <td>2</td>\n",
              "    </tr>\n",
              "    <tr>\n",
              "      <th>2</th>\n",
              "      <td>Gimenez Ganga</td>\n",
              "      <td>Giménez Ganga is a company that has been providing solutions for windows, sunlight protection and decoration since 1959.</td>\n",
              "      <td>Switzerland</td>\n",
              "      <td>1959-01-01</td>\n",
              "      <td>0</td>\n",
              "    </tr>\n",
              "    <tr>\n",
              "      <th>3</th>\n",
              "      <td>SMC3</td>\n",
              "      <td>Freight shippers, motor carriers, logistics service providers and other supply chain professionals look to SMC³ for the technology, industry data, educational services and general know-how to achieve greater success in the transportation marketplace. The company is best known for its CzarLite base rates, which are used as a price benchmark in transportation agreements. Additionally SMC³ produces a range of enabling technologies that give shippers and carriers complete visibility into their transportation spend. Each January and June, SMC³ hosts a comprehensive supply chain conference that gives industry professionals an inside look into cost-saving trends and best business practices as well as timely economic and legislative updates.</td>\n",
              "      <td>United States</td>\n",
              "      <td>1935-01-01</td>\n",
              "      <td>0</td>\n",
              "    </tr>\n",
              "    <tr>\n",
              "      <th>4</th>\n",
              "      <td>Much Asphalt</td>\n",
              "      <td>Much Asphalt is southern Africa’s commercial supplier of an extensive range of hot and cold asphalt products to the road construction economy. Much Asphalt owns and operates 15 static plants in the major centres of South Africa and is the majority shareholder in East Coast Asphalt which operates two more in East London and Mthatha.</td>\n",
              "      <td>South Africa</td>\n",
              "      <td>1965-01-01</td>\n",
              "      <td>0</td>\n",
              "    </tr>\n",
              "    <tr>\n",
              "      <th>5</th>\n",
              "      <td>The Hisey Company</td>\n",
              "      <td>The Hisey Company provides quality arbor care for consumers, providing a professional grade of service far beyond anything available in the marketplace today. With a focus on professionalism and quality of customer service, the company has created a experience that every customer will be hard pressed to find with any other service company.  In a industry with many \"\"competitors\"\", we set ourselves apart by providing service far above and beyond our competitors very best.   This is clearly evident in the growth and revenues that we have accomplished over the past 36 months. Without turning our focus away from continuing to grow, we aim to continue to build lasting relationships with every customer that will bring them back again.</td>\n",
              "      <td>United States</td>\n",
              "      <td>2011-02-19</td>\n",
              "      <td>0</td>\n",
              "    </tr>\n",
              "    <tr>\n",
              "      <th>6</th>\n",
              "      <td>FREIGHTALIA, LTD.</td>\n",
              "      <td>#1 Automatic quoting system ever created for Freight Forwarders, fully adaptable to your clientele, country or service needs. With Freightalia you can send beautiful quotes to your customers in real time. Know exactly when a quote was issued, when it was viewed, when it was accepted, and when it’s still pending.</td>\n",
              "      <td>United Kingdom</td>\n",
              "      <td>2015-09-26</td>\n",
              "      <td>0</td>\n",
              "    </tr>\n",
              "    <tr>\n",
              "      <th>7</th>\n",
              "      <td>Instant Access Au</td>\n",
              "      <td>Instant Access is a provider of Access equipment including aluminium scaffolding, mobile towers, Elevated Working Platform, swing stages and specialized access solutions tailored to specific customers. Instant Access were the first company in Australia to offer mobile aluminium mobile scaffolds.</td>\n",
              "      <td>Australia</td>\n",
              "      <td>1968-01-01</td>\n",
              "      <td>1</td>\n",
              "    </tr>\n",
              "    <tr>\n",
              "      <th>8</th>\n",
              "      <td>CANOR International</td>\n",
              "      <td>CANOR International provides project management, design, and consulting services. It offers urban planning services, such as development planning, space planning, architectural and engineering design, interior design, and CAD drafting; and project management services, including technical inspection, construction management, engineering audits, financial engineering, engineering consultancy, environmental engineering and consultancy, and facility management. The company also designs exhibition centers, as well as hotels and thermal baths.</td>\n",
              "      <td>Hungary</td>\n",
              "      <td>1993-01-01</td>\n",
              "      <td>0</td>\n",
              "    </tr>\n",
              "    <tr>\n",
              "      <th>9</th>\n",
              "      <td>LISUTO</td>\n",
              "      <td>LISUTO is a Multi-language batch exhibition system business</td>\n",
              "      <td>Japan</td>\n",
              "      <td>2016-11-01</td>\n",
              "      <td>1</td>\n",
              "    </tr>\n",
              "    <tr>\n",
              "      <th>10</th>\n",
              "      <td>PUNCH Consulting Engineers</td>\n",
              "      <td>PUNCH Consulting Engineers is the business name of Michael Punch and Partners Limited and is one of Ireland's leading and most experienced engineering consultancies. The partnership was established by Michael Punch in 1973 to provide a wide-ranging consultancy service in civil &amp; structural engineering. In this time it has grown to be one of the largest Irish-owned consultancies, with a diverse client base across an increasingly broad range of sectors of the industry.  The organisation of the company is based having two main divisions – the Buildings Division and the Environmental Division – and these divisions are further separated into the Market Sectors that they operate in.</td>\n",
              "      <td>Ireland</td>\n",
              "      <td>1973-01-01</td>\n",
              "      <td>0</td>\n",
              "    </tr>\n",
              "    <tr>\n",
              "      <th>11</th>\n",
              "      <td>Tucker Auto-Mation</td>\n",
              "      <td>Tucker Auto-Mation Holdings USA, LLC manufactures and distributes swinging, sliding, folding, and revolving automatic doors. The company offers its products for various solutions, including enterances, survelilance, people counting, and lighting program. It serves K12, hospitals, restrooms, gas stations and convenience stores, offices, hotels, banks, retail stores, college and universities, libraries, and grocery stores. It sells its products through its distribution sales channels. The company was founded in 2013 and is based in North Versailles, Pennsylvania.</td>\n",
              "      <td>United States</td>\n",
              "      <td>2013-01-01</td>\n",
              "      <td>0</td>\n",
              "    </tr>\n",
              "    <tr>\n",
              "      <th>12</th>\n",
              "      <td>Skye Capic Select</td>\n",
              "      <td>Skye Capic Select is planned as a 126 room hotel with conferencing facilities located in the Alausa Ikeja area.</td>\n",
              "      <td>Nigeria</td>\n",
              "      <td>2008-01-01</td>\n",
              "      <td>0</td>\n",
              "    </tr>\n",
              "    <tr>\n",
              "      <th>13</th>\n",
              "      <td>Ergo Robotic Solutions</td>\n",
              "      <td>Ergo Robotic Solutions have developed unmanned ground vehicles with arms to manipulate and handle glass facades. Most of the robots feature an articulated arm with a glass panel gripper at the end which helps in movement and mounting of the panels. Their largest robot called the THOM 2000 comes with a telescopic arm which can handle a 2000 pounds heavy glass panel.</td>\n",
              "      <td>United States</td>\n",
              "      <td>2013-01-01</td>\n",
              "      <td>1</td>\n",
              "    </tr>\n",
              "    <tr>\n",
              "      <th>14</th>\n",
              "      <td>Wuunder</td>\n",
              "      <td>Hello, We are Wuunder, and we’re excited to be changing the game when it comes to sending and receiving documents, packages and pallets.  We hope you’ll share our enthusiasm! We’re doing this via a shiny new mobile platform, which lets you quickly and easily find the best price from established carriers, send your document, parcel or pallet and stay in touch with those receiving them. How handy is that? All you need to get started is to download the Wuunder app, use the browser version for Mac and PC or install the webshop plug-in for WooCommerce, Magento, Lightspeed, Shopware etc.  Delivering business efficiency:  - Send everything – documents, packages and pallets  - Always get the best price, from 23 established carriers - Direct customer contact via chat and 24/7 shipment tracking   You’re probably wuundering why we spell our name with two ‘u’s. It’s because we passionately believe that personal service is essential in the digital world. While others deliver from place to place, we think in terms of delivering from person to person. Or in our language, from u to u. And because your mobile number gives you access to Wuunder chat, you can have direct contact with the people you send to.  Living in the Netherlands? Then you're lucky. We ship from the Netherlands only.  This is all part of our quest to be, Easy, efficient, connected. We Are Wuunder</td>\n",
              "      <td>Netherlands</td>\n",
              "      <td>2016-01-01</td>\n",
              "      <td>0</td>\n",
              "    </tr>\n",
              "  </tbody>\n",
              "</table>\n",
              "</div>"
            ],
            "text/plain": [
              "                          name  ... relevancy\n",
              "0           Pandora Car Rental  ...         0\n",
              "1                 SurplusMatch  ...         2\n",
              "2                Gimenez Ganga  ...         0\n",
              "3                         SMC3  ...         0\n",
              "4                 Much Asphalt  ...         0\n",
              "5            The Hisey Company  ...         0\n",
              "6            FREIGHTALIA, LTD.  ...         0\n",
              "7            Instant Access Au  ...         1\n",
              "8          CANOR International  ...         0\n",
              "9                       LISUTO  ...         1\n",
              "10  PUNCH Consulting Engineers  ...         0\n",
              "11          Tucker Auto-Mation  ...         0\n",
              "12           Skye Capic Select  ...         0\n",
              "13      Ergo Robotic Solutions  ...         1\n",
              "14                     Wuunder  ...         0\n",
              "\n",
              "[15 rows x 5 columns]"
            ]
          },
          "metadata": {
            "tags": []
          },
          "execution_count": 11
        }
      ]
    },
    {
      "cell_type": "code",
      "metadata": {
        "colab": {
          "base_uri": "https://localhost:8080/"
        },
        "id": "pW5locst6W4c",
        "outputId": "266fe2fc-126b-4815-8606-20661763a12a"
      },
      "source": [
        "df.info()"
      ],
      "execution_count": null,
      "outputs": [
        {
          "output_type": "stream",
          "text": [
            "<class 'pandas.core.frame.DataFrame'>\n",
            "RangeIndex: 2000 entries, 0 to 1999\n",
            "Data columns (total 5 columns):\n",
            " #   Column         Non-Null Count  Dtype \n",
            "---  ------         --------------  ----- \n",
            " 0   name           2000 non-null   object\n",
            " 1   description    2000 non-null   object\n",
            " 2   country        2000 non-null   object\n",
            " 3   founding_date  2000 non-null   object\n",
            " 4   relevancy      2000 non-null   int64 \n",
            "dtypes: int64(1), object(4)\n",
            "memory usage: 78.2+ KB\n"
          ],
          "name": "stdout"
        }
      ]
    },
    {
      "cell_type": "markdown",
      "metadata": {
        "id": "m-4LOv31x5OV"
      },
      "source": [
        "Null values check"
      ]
    },
    {
      "cell_type": "code",
      "metadata": {
        "colab": {
          "base_uri": "https://localhost:8080/"
        },
        "id": "yEqbXtqn75yl",
        "outputId": "65447b8b-fe93-4d1c-a005-49f5a651b85f"
      },
      "source": [
        "df.isnull().values.any()"
      ],
      "execution_count": null,
      "outputs": [
        {
          "output_type": "execute_result",
          "data": {
            "text/plain": [
              "False"
            ]
          },
          "metadata": {
            "tags": []
          },
          "execution_count": 13
        }
      ]
    },
    {
      "cell_type": "markdown",
      "metadata": {
        "id": "RMAfWeHdlC1v"
      },
      "source": [
        "### Data preprocessing and tokenization"
      ]
    },
    {
      "cell_type": "code",
      "metadata": {
        "colab": {
          "base_uri": "https://localhost:8080/"
        },
        "id": "zl9GZt4MlC1w",
        "outputId": "26cc03f6-a4e2-43ac-f3ee-e79cd065745c"
      },
      "source": [
        "nltk.download('stopwords')\n",
        "stopwords = nltk.corpus.stopwords.words('english')\n",
        "nltk.download('punkt')"
      ],
      "execution_count": null,
      "outputs": [
        {
          "output_type": "stream",
          "text": [
            "[nltk_data] Downloading package stopwords to /root/nltk_data...\n",
            "[nltk_data]   Unzipping corpora/stopwords.zip.\n",
            "[nltk_data] Downloading package punkt to /root/nltk_data...\n",
            "[nltk_data]   Unzipping tokenizers/punkt.zip.\n"
          ],
          "name": "stdout"
        },
        {
          "output_type": "execute_result",
          "data": {
            "text/plain": [
              "True"
            ]
          },
          "metadata": {
            "tags": []
          },
          "execution_count": 14
        }
      ]
    },
    {
      "cell_type": "code",
      "metadata": {
        "id": "yLjied5rlC1z"
      },
      "source": [
        "stemmer = PorterStemmer()"
      ],
      "execution_count": null,
      "outputs": []
    },
    {
      "cell_type": "markdown",
      "metadata": {
        "id": "9D6fbveUlC1z"
      },
      "source": [
        "# Part 1: Tf-Idf Based Approach (Vector Space Modeling)"
      ]
    },
    {
      "cell_type": "markdown",
      "metadata": {
        "id": "2NUs5ygtuV0p"
      },
      "source": [
        "In this cell, we are fitting the descriptions of the companies to the TF-IDF vectorizer. Then by using fit_transform, we are transforming the descriptions into matrix form. As an output, we obtained 2000x10364 sparse matrix."
      ]
    },
    {
      "cell_type": "code",
      "metadata": {
        "id": "m0C4xoZmlC17"
      },
      "source": [
        "tfidf = TfidfVectorizer(preprocessor=pre_process).fit_transform(df.description)"
      ],
      "execution_count": null,
      "outputs": []
    },
    {
      "cell_type": "markdown",
      "metadata": {
        "id": "uSM9hjBoxCa0"
      },
      "source": [
        "*   In this part, first we obtain the index of company called \"Vahanalytics\". Thus, doc_index_to_compare variable is assigned with this index number which is 695.\n",
        "*   Then, we set top_k variable to 5. This variable will be used later code snippets.\n",
        "*   Then we compute cosine similarities between company \"Vahanalytics\" and all other companies. Please note that cosine similarities are computed in matrix space which we obtained after TF-IDF vectorizer and flatten the array into 1D vector by flatten() function. \n",
        "\n",
        "\n"
      ]
    },
    {
      "cell_type": "code",
      "metadata": {
        "id": "sVRpPB-2lC18"
      },
      "source": [
        "doc_index_to_compare = df.index[df['name'] == \"Vahanalytics\"].tolist()[0]\n",
        "top_k = 5\n",
        "cosine_similarities = cosine_similarity(tfidf[doc_index_to_compare:doc_index_to_compare + 1], tfidf).flatten()"
      ],
      "execution_count": null,
      "outputs": []
    },
    {
      "cell_type": "markdown",
      "metadata": {
        "id": "NvT0he-Hy9yv"
      },
      "source": [
        "\n",
        "\n",
        "*   After obtaining cosine similarities, we first sort the similarities with argsort() function. This returns an array of indices of sorted array.\n",
        "*   Then, we slice this sorted array of indices such that we obtain indices of the most similar 5 companies, acc. to vector space compared to given company. We assign those indices to related_docs_indices variable.\n",
        "\n"
      ]
    },
    {
      "cell_type": "code",
      "metadata": {
        "id": "D-Y3-2BXlC18"
      },
      "source": [
        "related_docs_indices = cosine_similarities.argsort()[:-top_k - 1:-1]"
      ],
      "execution_count": null,
      "outputs": []
    },
    {
      "cell_type": "markdown",
      "metadata": {
        "id": "uww7sE0w2YZP"
      },
      "source": [
        "\n",
        "\n",
        "*   Finally, by using those indices, we look for the observations carry those indices with \"df.index.isin\" function. Since each observation has unique index, we create dataframe consists of the most similar companies and their information given \"Vahanalytics\" by using the indices that we found in the previous step.\n",
        "\n"
      ]
    },
    {
      "cell_type": "code",
      "metadata": {
        "id": "F2vNb-TulC19"
      },
      "source": [
        "tfidf_result_df = df[df.index.isin(related_docs_indices)]"
      ],
      "execution_count": null,
      "outputs": []
    },
    {
      "cell_type": "markdown",
      "metadata": {
        "id": "Akt6aF8R2ylj"
      },
      "source": [
        "\n",
        "\n",
        "*   tfidf_result_df is the dataframe that consists of the the most 5 similary companies, including prior, w.r.t cosine similarity metric.\n",
        "\n"
      ]
    },
    {
      "cell_type": "code",
      "metadata": {
        "colab": {
          "base_uri": "https://localhost:8080/",
          "height": 414
        },
        "id": "LUwxpnMFlC19",
        "outputId": "f921600a-5115-40cf-81e1-90a0b9a60192"
      },
      "source": [
        "tfidf_result_df"
      ],
      "execution_count": null,
      "outputs": [
        {
          "output_type": "execute_result",
          "data": {
            "text/html": [
              "<div>\n",
              "<style scoped>\n",
              "    .dataframe tbody tr th:only-of-type {\n",
              "        vertical-align: middle;\n",
              "    }\n",
              "\n",
              "    .dataframe tbody tr th {\n",
              "        vertical-align: top;\n",
              "    }\n",
              "\n",
              "    .dataframe thead th {\n",
              "        text-align: right;\n",
              "    }\n",
              "</style>\n",
              "<table border=\"1\" class=\"dataframe\">\n",
              "  <thead>\n",
              "    <tr style=\"text-align: right;\">\n",
              "      <th></th>\n",
              "      <th>name</th>\n",
              "      <th>description</th>\n",
              "      <th>country</th>\n",
              "      <th>founding_date</th>\n",
              "      <th>relevancy</th>\n",
              "    </tr>\n",
              "  </thead>\n",
              "  <tbody>\n",
              "    <tr>\n",
              "      <th>93</th>\n",
              "      <td>Ship Supplies Direct</td>\n",
              "      <td>We aim to use digital technology to transform the marine logistics industry</td>\n",
              "      <td>Singapore</td>\n",
              "      <td>2018-05-14</td>\n",
              "      <td>1</td>\n",
              "    </tr>\n",
              "    <tr>\n",
              "      <th>656</th>\n",
              "      <td>BISAF</td>\n",
              "      <td>BISAF is a technological company for the construction industry. We specialise in cutting edge solutions that make building easier, safer and environmentally friendly.</td>\n",
              "      <td>United Kingdom</td>\n",
              "      <td>2006-05-01</td>\n",
              "      <td>1</td>\n",
              "    </tr>\n",
              "    <tr>\n",
              "      <th>695</th>\n",
              "      <td>Vahanalytics</td>\n",
              "      <td>Vahanalytics aims to create better drivers and safer roads by using cutting edge big data and machine learning techniques.</td>\n",
              "      <td>India</td>\n",
              "      <td>2016-01-01</td>\n",
              "      <td>1</td>\n",
              "    </tr>\n",
              "    <tr>\n",
              "      <th>1542</th>\n",
              "      <td>GeoSpock</td>\n",
              "      <td>GeoSpock brings together their expertise of big data engineering to unlock the hidden value of data silos in your organization. Their solution enables you to manage extreme amounts of data at speed enabling your organization to react to key insights in a timely manner for future business success. The technology enables a range of capabilities from data analytics, visualization of spatial data, cutting edge data indexing, custom querying of data sets, and data intelligence.  To ensure that their customers get the maximum impact using the GeoSpock solution they work with them on a one to one basis as they understand that each organization approaches their data problems in a bespoke manner, this ensures that you get maximum business impact.  In bringing together multiple datasets this enables the cost of data generation to be amortized over many applications, opening up new business models and monetization opportunities, therefore, bringing value to your business.  They work across a number of markets including smart cities, automotive, mobile networks, IoT, enterprise, AdTech, asset management, and logistics.</td>\n",
              "      <td>United Kingdom</td>\n",
              "      <td>2013-01-01</td>\n",
              "      <td>1</td>\n",
              "    </tr>\n",
              "    <tr>\n",
              "      <th>1982</th>\n",
              "      <td>Axenda</td>\n",
              "      <td>Axenda is a cloud-based software platform for construction management industry. The software platform is used by constructors and architects to manage day-to-day tasks and grow their businesses. The company's patent-pending algorithm uses machine learning to estimate materials &amp; resources. It aims to predict project's estimates &amp; completion deadlines. In addition, the platform also translates the data into 3D virtual models which give visual feedback of project's progress to clients.</td>\n",
              "      <td>Mexico</td>\n",
              "      <td>2017-01-01</td>\n",
              "      <td>2</td>\n",
              "    </tr>\n",
              "  </tbody>\n",
              "</table>\n",
              "</div>"
            ],
            "text/plain": [
              "                      name  ... relevancy\n",
              "93    Ship Supplies Direct  ...         1\n",
              "656                  BISAF  ...         1\n",
              "695           Vahanalytics  ...         1\n",
              "1542              GeoSpock  ...         1\n",
              "1982                Axenda  ...         2\n",
              "\n",
              "[5 rows x 5 columns]"
            ]
          },
          "metadata": {
            "tags": []
          },
          "execution_count": 20
        }
      ]
    },
    {
      "cell_type": "markdown",
      "metadata": {
        "id": "a1l26wvVBPXJ"
      },
      "source": [
        "#### Extending the code for “Much Asphalt” "
      ]
    },
    {
      "cell_type": "code",
      "metadata": {
        "colab": {
          "base_uri": "https://localhost:8080/",
          "height": 363
        },
        "id": "tg96BPLNBW2K",
        "outputId": "a492c176-4fd7-4231-b9a6-489cae6e5e9e"
      },
      "source": [
        "doc_index_to_compare2 = df.index[df['name'] == \"Much Asphalt\"].tolist()[0]\n",
        "top_k = 5\n",
        "cosine_similarities2 = cosine_similarity(tfidf[doc_index_to_compare2:doc_index_to_compare2 + 1], tfidf).flatten()\n",
        "related_docs_indices2 = cosine_similarities2.argsort()[:-top_k - 1:-1]\n",
        "tfidf_result_df_2 = df[df.index.isin(related_docs_indices2)]\n",
        "tfidf_result_df_2"
      ],
      "execution_count": null,
      "outputs": [
        {
          "output_type": "execute_result",
          "data": {
            "text/html": [
              "<div>\n",
              "<style scoped>\n",
              "    .dataframe tbody tr th:only-of-type {\n",
              "        vertical-align: middle;\n",
              "    }\n",
              "\n",
              "    .dataframe tbody tr th {\n",
              "        vertical-align: top;\n",
              "    }\n",
              "\n",
              "    .dataframe thead th {\n",
              "        text-align: right;\n",
              "    }\n",
              "</style>\n",
              "<table border=\"1\" class=\"dataframe\">\n",
              "  <thead>\n",
              "    <tr style=\"text-align: right;\">\n",
              "      <th></th>\n",
              "      <th>name</th>\n",
              "      <th>description</th>\n",
              "      <th>country</th>\n",
              "      <th>founding_date</th>\n",
              "      <th>relevancy</th>\n",
              "    </tr>\n",
              "  </thead>\n",
              "  <tbody>\n",
              "    <tr>\n",
              "      <th>4</th>\n",
              "      <td>Much Asphalt</td>\n",
              "      <td>Much Asphalt is southern Africa’s commercial supplier of an extensive range of hot and cold asphalt products to the road construction economy. Much Asphalt owns and operates 15 static plants in the major centres of South Africa and is the majority shareholder in East Coast Asphalt which operates two more in East London and Mthatha.</td>\n",
              "      <td>South Africa</td>\n",
              "      <td>1965-01-01</td>\n",
              "      <td>0</td>\n",
              "    </tr>\n",
              "    <tr>\n",
              "      <th>57</th>\n",
              "      <td>Sunland Asphalt</td>\n",
              "      <td>Sunland Asphalt, a commercial asphalt paving company in Phoenix, provides commercial asphalt paving service at competitive price.</td>\n",
              "      <td>United States</td>\n",
              "      <td>1979-01-01</td>\n",
              "      <td>0</td>\n",
              "    </tr>\n",
              "    <tr>\n",
              "      <th>618</th>\n",
              "      <td>Central-Allied Enterprises</td>\n",
              "      <td>Central States Construction was founded in 1929 by Ernest W. Hallett to produce sand and gravel and construct concrete highways in Minnesota. The business was successful, and in the early 1940s, operations expanded to western Ohio. In the 1940s, the company was heavily involved in the wartime expansion of Wright-Patterson Air Force Base and the post-war construction of the Ohio Turnpike. By the early 1950s, Ohio operations had expanded to include production of sand, gravel, asphalt, and concrete. The Ohio-based portion of the business became known as Allied Enterprises, and it made its permanent presence in Northeastern Ohio by the end of the 50s.  Today, Central-Allied Enterprises is one of northeastern Ohio's leading producers of sand, gravel, asphalt, and paved asphalt surfaces.</td>\n",
              "      <td>United States</td>\n",
              "      <td>1929-01-01</td>\n",
              "      <td>0</td>\n",
              "    </tr>\n",
              "    <tr>\n",
              "      <th>862</th>\n",
              "      <td>FAST FELT</td>\n",
              "      <td>The patented product FAST FELT®, with its plastic tabs pre-affixed to the asphalt saturated felt (commonly called \"tar paper\") is the only significant improvement in the recent history of the asphalt saturated felt underlayment products market.</td>\n",
              "      <td>United States</td>\n",
              "      <td>2007-01-01</td>\n",
              "      <td>0</td>\n",
              "    </tr>\n",
              "    <tr>\n",
              "      <th>1443</th>\n",
              "      <td>Saldus Celinieks</td>\n",
              "      <td>Saldus Celinieks is specialising in road construction, extraction of aggregates and asphalt production.</td>\n",
              "      <td>Latvia</td>\n",
              "      <td>1991-01-01</td>\n",
              "      <td>1</td>\n",
              "    </tr>\n",
              "  </tbody>\n",
              "</table>\n",
              "</div>"
            ],
            "text/plain": [
              "                            name  ... relevancy\n",
              "4                   Much Asphalt  ...         0\n",
              "57               Sunland Asphalt  ...         0\n",
              "618   Central-Allied Enterprises  ...         0\n",
              "862                    FAST FELT  ...         0\n",
              "1443            Saldus Celinieks  ...         1\n",
              "\n",
              "[5 rows x 5 columns]"
            ]
          },
          "metadata": {
            "tags": []
          },
          "execution_count": 21
        }
      ]
    },
    {
      "cell_type": "code",
      "metadata": {
        "colab": {
          "base_uri": "https://localhost:8080/",
          "height": 102
        },
        "id": "ZYmpqxAcB0TA",
        "outputId": "9b8b1d30-c715-4fc5-dfee-38540f948934"
      },
      "source": [
        "print(\"Company Name:\", tfidf_result_df_2.loc[4][\"name\"],\"\\n\")\n",
        "print(\"Description\")\n",
        "tfidf_result_df_2.loc[4][\"description\"]"
      ],
      "execution_count": null,
      "outputs": [
        {
          "output_type": "stream",
          "text": [
            "Company Name: Much Asphalt \n",
            "\n",
            "Description\n"
          ],
          "name": "stdout"
        },
        {
          "output_type": "execute_result",
          "data": {
            "application/vnd.google.colaboratory.intrinsic+json": {
              "type": "string"
            },
            "text/plain": [
              "'Much Asphalt is southern Africa’s commercial supplier of an extensive range of hot and cold asphalt products to the road construction economy. Much Asphalt owns and operates 15 static plants in the major centres of South Africa and is the majority shareholder in East Coast Asphalt which operates two more in East London and Mthatha.'"
            ]
          },
          "metadata": {
            "tags": []
          },
          "execution_count": 22
        }
      ]
    },
    {
      "cell_type": "code",
      "metadata": {
        "colab": {
          "base_uri": "https://localhost:8080/",
          "height": 86
        },
        "id": "4pPUewDyC9W6",
        "outputId": "92adc247-4bc1-4293-fa8f-81859a96e0db"
      },
      "source": [
        "print(\"Company Name:\", tfidf_result_df_2.loc[57][\"name\"],\"\\n\")\n",
        "print(\"Description\")\n",
        "tfidf_result_df_2.loc[57][\"description\"]"
      ],
      "execution_count": null,
      "outputs": [
        {
          "output_type": "stream",
          "text": [
            "Company Name: Sunland Asphalt \n",
            "\n",
            "Description\n"
          ],
          "name": "stdout"
        },
        {
          "output_type": "execute_result",
          "data": {
            "application/vnd.google.colaboratory.intrinsic+json": {
              "type": "string"
            },
            "text/plain": [
              "'Sunland Asphalt, a commercial asphalt paving company in Phoenix, provides commercial asphalt paving service at competitive price.'"
            ]
          },
          "metadata": {
            "tags": []
          },
          "execution_count": 23
        }
      ]
    },
    {
      "cell_type": "code",
      "metadata": {
        "colab": {
          "base_uri": "https://localhost:8080/",
          "height": 153
        },
        "id": "R0szLF_9DAv0",
        "outputId": "8019df17-b9ce-4a85-f49a-e991883c3235"
      },
      "source": [
        "print(\"Company Name:\", tfidf_result_df_2.loc[618][\"name\"],\"\\n\")\n",
        "print(\"Description\")\n",
        "tfidf_result_df_2.loc[618][\"description\"]"
      ],
      "execution_count": null,
      "outputs": [
        {
          "output_type": "stream",
          "text": [
            "Company Name: Central-Allied Enterprises \n",
            "\n",
            "Description\n"
          ],
          "name": "stdout"
        },
        {
          "output_type": "execute_result",
          "data": {
            "application/vnd.google.colaboratory.intrinsic+json": {
              "type": "string"
            },
            "text/plain": [
              "\"Central States Construction was founded in 1929 by Ernest W. Hallett to produce sand and gravel and construct concrete highways in Minnesota. The business was successful, and in the early 1940s, operations expanded to western Ohio. In the 1940s, the company was heavily involved in the wartime expansion of Wright-Patterson Air Force Base and the post-war construction of the Ohio Turnpike. By the early 1950s, Ohio operations had expanded to include production of sand, gravel, asphalt, and concrete. The Ohio-based portion of the business became known as Allied Enterprises, and it made its permanent presence in Northeastern Ohio by the end of the 50s.  Today, Central-Allied Enterprises is one of northeastern Ohio's leading producers of sand, gravel, asphalt, and paved asphalt surfaces.\""
            ]
          },
          "metadata": {
            "tags": []
          },
          "execution_count": 24
        }
      ]
    },
    {
      "cell_type": "code",
      "metadata": {
        "colab": {
          "base_uri": "https://localhost:8080/",
          "height": 102
        },
        "id": "cqUOmGcUDZoQ",
        "outputId": "72777b9b-1e7b-4813-f19e-89919dfc15fe"
      },
      "source": [
        "print(\"Company Name:\", tfidf_result_df_2.loc[862][\"name\"],\"\\n\")\n",
        "print(\"Description\")\n",
        "tfidf_result_df_2.loc[862][\"description\"]"
      ],
      "execution_count": null,
      "outputs": [
        {
          "output_type": "stream",
          "text": [
            "Company Name: FAST FELT \n",
            "\n",
            "Description\n"
          ],
          "name": "stdout"
        },
        {
          "output_type": "execute_result",
          "data": {
            "application/vnd.google.colaboratory.intrinsic+json": {
              "type": "string"
            },
            "text/plain": [
              "'The patented product FAST FELT®, with its plastic tabs pre-affixed to the asphalt saturated felt (commonly called \"tar paper\") is the only significant improvement in the recent history of the asphalt saturated felt underlayment products market.'"
            ]
          },
          "metadata": {
            "tags": []
          },
          "execution_count": 25
        }
      ]
    },
    {
      "cell_type": "markdown",
      "metadata": {
        "id": "EFFzTRUmDM-5"
      },
      "source": [
        "## Results somehow make sense. \"Much Asphalt\" is compared with other 4 companies above. However, obviously they could be better. "
      ]
    },
    {
      "cell_type": "markdown",
      "metadata": {
        "id": "0PJr_Z68lC1_"
      },
      "source": [
        "# Part 2\r\n",
        "## Topic Modeling Using LDA"
      ]
    },
    {
      "cell_type": "code",
      "metadata": {
        "id": "hGyz7sGolC1_"
      },
      "source": [
        "from gensim import models, corpora, similarities\n",
        "from nltk import FreqDist\n",
        "import numpy as np\n",
        "from scipy.stats import entropy\n",
        "from tqdm import tqdm"
      ],
      "execution_count": null,
      "outputs": []
    },
    {
      "cell_type": "markdown",
      "metadata": {
        "id": "DjYPEHxS7AnM"
      },
      "source": [
        "###### Creating Tokenized Column"
      ]
    },
    {
      "cell_type": "code",
      "metadata": {
        "colab": {
          "base_uri": "https://localhost:8080/"
        },
        "id": "zBP1-i9B3_nW",
        "outputId": "02fd7e6d-f2cd-426e-fce6-c735d4b18344"
      },
      "source": [
        "# Creating empty column and assining tokens iteratively.\n",
        "\n",
        "df[\"tokenized\"] = np.nan\n",
        "for index in (range(len(df[\"description\"]))):\n",
        "  df[\"tokenized\"][index] = pre_process(df[\"description\"][index])"
      ],
      "execution_count": null,
      "outputs": [
        {
          "output_type": "stream",
          "text": [
            "/usr/local/lib/python3.6/dist-packages/ipykernel_launcher.py:5: SettingWithCopyWarning: \n",
            "A value is trying to be set on a copy of a slice from a DataFrame\n",
            "\n",
            "See the caveats in the documentation: https://pandas.pydata.org/pandas-docs/stable/user_guide/indexing.html#returning-a-view-versus-a-copy\n",
            "  \"\"\"\n",
            "/usr/local/lib/python3.6/dist-packages/pandas/core/indexing.py:670: SettingWithCopyWarning: \n",
            "A value is trying to be set on a copy of a slice from a DataFrame\n",
            "\n",
            "See the caveats in the documentation: https://pandas.pydata.org/pandas-docs/stable/user_guide/indexing.html#returning-a-view-versus-a-copy\n",
            "  iloc._setitem_with_indexer(indexer, value)\n"
          ],
          "name": "stderr"
        }
      ]
    },
    {
      "cell_type": "markdown",
      "metadata": {
        "id": "e63bCV8l7D8j"
      },
      "source": [
        "#### Using new column tokenized, finding the most common 5000 tokens."
      ]
    },
    {
      "cell_type": "code",
      "metadata": {
        "id": "-TkWDXgV7OQ2"
      },
      "source": [
        "tokens_list = []\n",
        "\n",
        "for index in range(len(df[\"tokenized\"])):\n",
        "  tokens = df[\"tokenized\"][index].split()\n",
        "  for token in tokens:\n",
        "    tokens_list.append(token)\n",
        "\n",
        "len(tokens_list)"
      ],
      "execution_count": null,
      "outputs": []
    },
    {
      "cell_type": "markdown",
      "metadata": {
        "id": "5nIWsQBN--qV"
      },
      "source": [
        "#### Obtained token list including 87385 tokens. There might be duplicate tokens in this list."
      ]
    },
    {
      "cell_type": "code",
      "metadata": {
        "id": "YPHmqhkF_P9j"
      },
      "source": [
        "from  collections import Counter\n",
        "\n",
        "# Counting the tokens list and building the most common 5000 tokens.\n",
        "counted_tokens = Counter(tokens_list)\n",
        "most_common_5000 = counted_tokens.most_common(5000) # list of nested tuples \n",
        "\n",
        "# Converting list of nested tuples to list including only tokens and not the frequencies.\n",
        "most_common_5000_tokens = []\n",
        "for index in range(len(most_common_5000)):\n",
        "  most_common_5000_tokens.append(most_common_5000[index][0])"
      ],
      "execution_count": null,
      "outputs": []
    },
    {
      "cell_type": "code",
      "metadata": {
        "colab": {
          "base_uri": "https://localhost:8080/"
        },
        "id": "guTsA2mNACZz",
        "outputId": "0a3d979d-44e9-4295-a7f2-58caaac8c955"
      },
      "source": [
        "# Filtering uncommon words from column values\n",
        "most_common_5000_tokens_set  = set(most_common_5000_tokens)\n",
        "\n",
        "for index in range(len(df[\"tokenized\"])):\n",
        "\n",
        "  # splitting the tokens in each row of df\n",
        "  tokens = df[\"tokenized\"][index].split()\n",
        "  #tokens = set(tokens)\n",
        "  \n",
        "  #filtered_tokens = most_common_5000_tokens_set & tokens\n",
        "\n",
        "  # replacing column values with the new column values\n",
        "  df[\"tokenized\"][index] = list(tokens)#(filtered_tokens)"
      ],
      "execution_count": null,
      "outputs": [
        {
          "output_type": "stream",
          "text": [
            "/usr/local/lib/python3.6/dist-packages/ipykernel_launcher.py:13: SettingWithCopyWarning: \n",
            "A value is trying to be set on a copy of a slice from a DataFrame\n",
            "\n",
            "See the caveats in the documentation: https://pandas.pydata.org/pandas-docs/stable/user_guide/indexing.html#returning-a-view-versus-a-copy\n",
            "  del sys.path[0]\n"
          ],
          "name": "stderr"
        }
      ]
    },
    {
      "cell_type": "code",
      "metadata": {
        "colab": {
          "base_uri": "https://localhost:8080/"
        },
        "id": "sBJPwfAGF9Ak",
        "outputId": "2a10b59d-fe56-41a2-dc15-e0a1d8664be5"
      },
      "source": [
        "relev = Counter(list(df[\"relevancy\"]))\n",
        "relev"
      ],
      "execution_count": null,
      "outputs": [
        {
          "output_type": "execute_result",
          "data": {
            "text/plain": [
              "Counter({0: 1166, 1: 444, 2: 390})"
            ]
          },
          "metadata": {
            "tags": []
          },
          "execution_count": 31
        }
      ]
    },
    {
      "cell_type": "code",
      "metadata": {
        "colab": {
          "base_uri": "https://localhost:8080/",
          "height": 514
        },
        "id": "INrXrOUleO-F",
        "outputId": "3e169baf-2422-4f56-b7b5-10f4d345a7f2"
      },
      "source": [
        "df.tail()"
      ],
      "execution_count": null,
      "outputs": [
        {
          "output_type": "execute_result",
          "data": {
            "text/html": [
              "<div>\n",
              "<style scoped>\n",
              "    .dataframe tbody tr th:only-of-type {\n",
              "        vertical-align: middle;\n",
              "    }\n",
              "\n",
              "    .dataframe tbody tr th {\n",
              "        vertical-align: top;\n",
              "    }\n",
              "\n",
              "    .dataframe thead th {\n",
              "        text-align: right;\n",
              "    }\n",
              "</style>\n",
              "<table border=\"1\" class=\"dataframe\">\n",
              "  <thead>\n",
              "    <tr style=\"text-align: right;\">\n",
              "      <th></th>\n",
              "      <th>name</th>\n",
              "      <th>description</th>\n",
              "      <th>country</th>\n",
              "      <th>founding_date</th>\n",
              "      <th>relevancy</th>\n",
              "      <th>tokenized</th>\n",
              "    </tr>\n",
              "  </thead>\n",
              "  <tbody>\n",
              "    <tr>\n",
              "      <th>1995</th>\n",
              "      <td>James Fisher and Sons plc</td>\n",
              "      <td>James Fisher and Sons plc is a leading provider of specialist services to the marine, oil and gas and other high assurance industries worldwide.</td>\n",
              "      <td>United Kingdom</td>\n",
              "      <td>1847-01-01</td>\n",
              "      <td>0</td>\n",
              "      <td>[jame, fisher, son, plc, lead, provid, specialist, servic, marin, oil, ga, high, assur, industri, worldwid]</td>\n",
              "    </tr>\n",
              "    <tr>\n",
              "      <th>1996</th>\n",
              "      <td>AEG</td>\n",
              "      <td>The AEG brand offers a full range of products that continue the proud history of the brand. A track record which started with electric light bulbs evolved over the years to include everything from cars, trains, power tools and electric machines to instruments, nuclear power, motors, microelectronics and more. The brand is as attractive and relevant today as it was over 120 years ago.</td>\n",
              "      <td>United States</td>\n",
              "      <td>1887-01-01</td>\n",
              "      <td>1</td>\n",
              "      <td>[aeg, brand, offer, full, rang, product, continu, proud, histori, brand, track, record, start, electr, light, bulb, evolv, year, includ, everyth, car, train, power, tool, electr, machin, instrument, nuclear, power, motor, microelectron, brand, attract, relev, today, year, ago]</td>\n",
              "    </tr>\n",
              "    <tr>\n",
              "      <th>1997</th>\n",
              "      <td>mov.e</td>\n",
              "      <td>Digital platform that enables sharing of electricity for electric vehicles charging</td>\n",
              "      <td>Portugal</td>\n",
              "      <td>2018-01-01</td>\n",
              "      <td>2</td>\n",
              "      <td>[digit, platform, enabl, share, electr, electr, vehicl, charg]</td>\n",
              "    </tr>\n",
              "    <tr>\n",
              "      <th>1998</th>\n",
              "      <td>ambiHome</td>\n",
              "      <td>ambiHome is a fresh company based in Aachen/Germany, that has developed an innovative KNX-home-automation system for residential housing construction, particularly for new buildings and structural restoration. The ‘intelligent house’ unifies all single installations (e. g. lighting, heating, shading, alarming, fire detection) into one sole system and thereby offers more comfort, security and energy-efficiency to the user.</td>\n",
              "      <td>Germany</td>\n",
              "      <td>2009-01-01</td>\n",
              "      <td>0</td>\n",
              "      <td>[ambihom, fresh, compani, base, aachengermani, develop, innov, knxhomeautom, system, residenti, hous, construct, particularli, new, build, structur, restor, intellig, hous, unifi, singl, instal, light, heat, shade, alarm, fire, detect, one, sole, system, therebi, offer, comfort, secur, energyeffici, user]</td>\n",
              "    </tr>\n",
              "    <tr>\n",
              "      <th>1999</th>\n",
              "      <td>Construirbarato</td>\n",
              "      <td>Construirbarato.com.br is an online platform that allows its users to search and compare prices of products and services related to construction. It was launched in 2009 and is based in Rio de Janeiro, Brazil.</td>\n",
              "      <td>Brazil</td>\n",
              "      <td>2009-01-01</td>\n",
              "      <td>1</td>\n",
              "      <td>[construirbaratocombr, onlin, platform, allow, user, search, compar, price, product, servic, relat, construct, launch, base, rio, de, janeiro, brazil]</td>\n",
              "    </tr>\n",
              "  </tbody>\n",
              "</table>\n",
              "</div>"
            ],
            "text/plain": [
              "                           name  ...                                                                                                                                                                                                                                                                                                           tokenized\n",
              "1995  James Fisher and Sons plc  ...                                                                                                                                                                                                         [jame, fisher, son, plc, lead, provid, specialist, servic, marin, oil, ga, high, assur, industri, worldwid]\n",
              "1996                        AEG  ...                               [aeg, brand, offer, full, rang, product, continu, proud, histori, brand, track, record, start, electr, light, bulb, evolv, year, includ, everyth, car, train, power, tool, electr, machin, instrument, nuclear, power, motor, microelectron, brand, attract, relev, today, year, ago]\n",
              "1997                      mov.e  ...                                                                                                                                                                                                                                                      [digit, platform, enabl, share, electr, electr, vehicl, charg]\n",
              "1998                   ambiHome  ...  [ambihom, fresh, compani, base, aachengermani, develop, innov, knxhomeautom, system, residenti, hous, construct, particularli, new, build, structur, restor, intellig, hous, unifi, singl, instal, light, heat, shade, alarm, fire, detect, one, sole, system, therebi, offer, comfort, secur, energyeffici, user]\n",
              "1999            Construirbarato  ...                                                                                                                                                              [construirbaratocombr, onlin, platform, allow, user, search, compar, price, product, servic, relat, construct, launch, base, rio, de, janeiro, brazil]\n",
              "\n",
              "[5 rows x 6 columns]"
            ]
          },
          "metadata": {
            "tags": []
          },
          "execution_count": 32
        }
      ]
    },
    {
      "cell_type": "code",
      "metadata": {
        "colab": {
          "base_uri": "https://localhost:8080/"
        },
        "id": "Ams-dZ07ez90",
        "outputId": "e1166eeb-403b-4be2-e45b-717e6ae34672"
      },
      "source": [
        "df.dtypes"
      ],
      "execution_count": null,
      "outputs": [
        {
          "output_type": "execute_result",
          "data": {
            "text/plain": [
              "name             object\n",
              "description      object\n",
              "country          object\n",
              "founding_date    object\n",
              "relevancy         int64\n",
              "tokenized        object\n",
              "dtype: object"
            ]
          },
          "metadata": {
            "tags": []
          },
          "execution_count": 33
        }
      ]
    },
    {
      "cell_type": "code",
      "metadata": {
        "id": "iDY_x-SvfUX4"
      },
      "source": [
        "data_to_train = df[\"tokenized\"].astype(\"string\")"
      ],
      "execution_count": null,
      "outputs": []
    },
    {
      "cell_type": "code",
      "metadata": {
        "colab": {
          "base_uri": "https://localhost:8080/"
        },
        "id": "-4ZTowTJfetK",
        "outputId": "928faa33-fdf5-4188-b6a2-de9befdcc5e5"
      },
      "source": [
        "data_to_train.head()"
      ],
      "execution_count": null,
      "outputs": [
        {
          "output_type": "execute_result",
          "data": {
            "text/plain": [
              "0    ['welcom', 'pandora', 'car', 'rental', 'car', 'hire', 'airport', 'transfer', 'base', 'dalaman', 'turkey', 'wide', 'rang', 'car', 'suit', 'budget', 'deliv', 'car', 'free', 'anytim', 'day', 'night', 'within', 'dalaman', 'local', 'reason', 'book', 'car', 'pandora', 'car', 'rental', 'unlimit', 'milag', 'vat', 'local', 'tax', 'airport', 'servic', 'charg', 'applic', 'hour', 'road', 'servic', 'third', 'parti', 'insur', 'excess', 'theft', 'insur', 'excess', 'fire', 'insur', 'excess', 'fdw', 'insur', 'excess', 'cdw', 'collis', 'damag', 'waiver', 'excess', 'twh', 'tyre', 'windscreen', 'headlight', 'insur', 'excess', 'addit', 'driver', 'childbabi', 'seat', 'must', 'order', 'hidden', 'extra', 'address', 'hadrian', 'flat', 'number', 'wellington', 'telford', 'pin', 'code', 'tfrq', 'tel', 'websit']\n",
              "1                                                                                                                                                                                                                                                                                                                                                                                                                                                                                                              ['surplusmatch', 'onlin', 'marketplac', 'contractor', 'merchant', 'manufactur', 'buy', 'sell', 'old', 'stock', 'end', 'line', 'slight', 'second', 'site', 'surplu', 'materi', 'seller', 'list', 'detail', 'stock', 'buyer', 'brows', 'order', 'materi', 'surplusmatch', 'deliv', 'maintain', 'anonym', 'seller']\n",
              "2                                                                                                                                                                                                                                                                                                                                                                                                                                                                                                                                                                                                                                                                                                                           ['gimnez', 'ganga', 'compani', 'provid', 'solut', 'window', 'sunlight', 'protect', 'decor', 'sinc']\n",
              "3                                                                                         ['freight', 'shipper', 'motor', 'carrier', 'logist', 'servic', 'provid', 'suppli', 'chain', 'profession', 'look', 'smc', 'technolog', 'industri', 'data', 'educ', 'servic', 'gener', 'knowhow', 'achiev', 'greater', 'success', 'transport', 'marketplac', 'compani', 'best', 'known', 'czarlit', 'base', 'rate', 'use', 'price', 'benchmark', 'transport', 'agreement', 'addit', 'smc', 'produc', 'rang', 'enabl', 'technolog', 'give', 'shipper', 'carrier', 'complet', 'visibl', 'transport', 'spend', 'januari', 'june', 'smc', 'host', 'comprehens', 'suppli', 'chain', 'confer', 'give', 'industri', 'profession', 'insid', 'look', 'costsav', 'trend', 'best', 'busi', 'practic', 'well', 'time', 'econom', 'legisl', 'updat']\n",
              "4                                                                                                                                                                                                                                                                                                                                                                                                                                                                              ['much', 'asphalt', 'southern', 'africa', 'commerci', 'supplier', 'extens', 'rang', 'hot', 'cold', 'asphalt', 'product', 'road', 'construct', 'economi', 'much', 'asphalt', 'own', 'oper', 'static', 'plant', 'major', 'centr', 'south', 'africa', 'major', 'sharehold', 'east', 'coast', 'asphalt', 'oper', 'two', 'east', 'london', 'mthatha']\n",
              "Name: tokenized, dtype: string"
            ]
          },
          "metadata": {
            "tags": []
          },
          "execution_count": 35
        }
      ]
    },
    {
      "cell_type": "markdown",
      "metadata": {
        "id": "G9gieVxuHIS3"
      },
      "source": [
        "LDA training"
      ]
    },
    {
      "cell_type": "code",
      "metadata": {
        "id": "kWkHgI1Y3K8a"
      },
      "source": [
        "num_topics = 10\r\n",
        "chunksize = 5"
      ],
      "execution_count": null,
      "outputs": []
    },
    {
      "cell_type": "code",
      "metadata": {
        "colab": {
          "base_uri": "https://localhost:8080/"
        },
        "id": "oFhbd0bVCPcS",
        "outputId": "58ad208e-7ea5-4334-d6de-6a4c371ba818"
      },
      "source": [
        "# Training\n",
        "trained_model, dictio, corps = train_lda(data=df, num_topics=num_topics, chunksize=chunksize)"
      ],
      "execution_count": null,
      "outputs": [
        {
          "output_type": "stream",
          "text": [
            "/usr/local/lib/python3.6/dist-packages/gensim/models/ldamodel.py:1023: RuntimeWarning: divide by zero encountered in log\n",
            "  diff = np.log(self.expElogbeta)\n"
          ],
          "name": "stderr"
        }
      ]
    },
    {
      "cell_type": "code",
      "metadata": {
        "colab": {
          "base_uri": "https://localhost:8080/"
        },
        "id": "rRrAWuh944ns",
        "outputId": "5a2f4625-4d83-46c8-d96d-b8ec12b43546"
      },
      "source": [
        "[x for x in trained_model[corps]][0], [trained_model.id2word[x[0]] for x in corps[0]][:3], len(corps)"
      ],
      "execution_count": null,
      "outputs": [
        {
          "output_type": "execute_result",
          "data": {
            "text/plain": [
              "([(1, 0.049503215), (2, 0.3310263), (6, 0.19026472), (9, 0.42778063)],\n",
              " ['addit', 'address', 'airport'],\n",
              " 2000)"
            ]
          },
          "metadata": {
            "tags": []
          },
          "execution_count": 51
        }
      ]
    },
    {
      "cell_type": "markdown",
      "metadata": {
        "id": "1aFD2_ut2-3y"
      },
      "source": [
        "#### Obtaining Document-Matrix and padding it"
      ]
    },
    {
      "cell_type": "code",
      "metadata": {
        "id": "-Ze9-U6AVVdp",
        "colab": {
          "base_uri": "https://localhost:8080/"
        },
        "outputId": "c247f980-1592-489d-f96b-8935c9bac92b"
      },
      "source": [
        "docmat = ([x for x in trained_model.get_document_topics(trained_model[corps])])\r\n",
        "docmat_pad = matpad(docmat, num_topics)"
      ],
      "execution_count": null,
      "outputs": [
        {
          "output_type": "stream",
          "text": [
            "/usr/local/lib/python3.6/dist-packages/ipykernel_launcher.py:9: RuntimeWarning: divide by zero encountered in double_scalars\n",
            "  if __name__ == '__main__':\n",
            "/usr/local/lib/python3.6/dist-packages/ipykernel_launcher.py:9: RuntimeWarning: invalid value encountered in double_scalars\n",
            "  if __name__ == '__main__':\n"
          ],
          "name": "stderr"
        }
      ]
    },
    {
      "cell_type": "code",
      "metadata": {
        "colab": {
          "base_uri": "https://localhost:8080/"
        },
        "id": "ePdf8OawVn5j",
        "outputId": "bba6e427-e6dc-4b1a-e9ee-a7d1cb9e0222"
      },
      "source": [
        "docmat_pad.shape"
      ],
      "execution_count": null,
      "outputs": [
        {
          "output_type": "execute_result",
          "data": {
            "text/plain": [
              "(2000, 10)"
            ]
          },
          "metadata": {
            "tags": []
          },
          "execution_count": 53
        }
      ]
    },
    {
      "cell_type": "markdown",
      "metadata": {
        "id": "JVAtuwB0zxdY"
      },
      "source": [
        "Vahanalytics Part"
      ]
    },
    {
      "cell_type": "code",
      "metadata": {
        "id": "v6Y3ZsxH6ZIc"
      },
      "source": [
        "dictionary = corpora.Dictionary(df['tokenized'])\n",
        "vahana_ind = df.index[df['name'] == \"Vahanalytics\"].tolist()[0]\n",
        "\n",
        "new_bow_Vahanalytics = dictionary.doc2bow(df.loc[vahana_ind][\"tokenized\"])\n",
        "new_doc_Vahanalytics = trained_model.get_document_topics(bow=new_bow_Vahanalytics)"
      ],
      "execution_count": null,
      "outputs": []
    },
    {
      "cell_type": "code",
      "metadata": {
        "id": "r0j8Vho2o4SB",
        "colab": {
          "base_uri": "https://localhost:8080/"
        },
        "outputId": "e5b7048e-421c-404e-e6de-6c292c9ef3e2"
      },
      "source": [
        "vahana_query = matpad([new_doc_Vahanalytics], num_topics)[0]\r\n",
        "vahana_query"
      ],
      "execution_count": null,
      "outputs": [
        {
          "output_type": "execute_result",
          "data": {
            "text/plain": [
              "array([0.00243902, 0.49024391, 0.00243902, 0.00243902, 0.00243902,\n",
              "       0.00243902, 0.00243902, 0.00243902, 0.00243902, 0.49024391])"
            ]
          },
          "metadata": {
            "tags": []
          },
          "execution_count": 55
        }
      ]
    },
    {
      "cell_type": "markdown",
      "metadata": {
        "id": "hg81_psY0O_s"
      },
      "source": [
        "Much Asphalt Part"
      ]
    },
    {
      "cell_type": "code",
      "metadata": {
        "id": "zZB68Mmyz_mS"
      },
      "source": [
        "dictionary_asphalt = corpora.Dictionary(df['tokenized'])\n",
        "asphalt_ind = df.index[df['name'] == \"Much Asphalt\"].tolist()[0]\n",
        "\n",
        "new_bow_Asphalth = dictionary_asphalt.doc2bow(df.loc[asphalt_ind][\"tokenized\"])\n",
        "new_doc_Asphalt = trained_model.get_document_topics(bow=new_bow_Asphalth)"
      ],
      "execution_count": null,
      "outputs": []
    },
    {
      "cell_type": "code",
      "metadata": {
        "id": "kSMP2o4n8rAc"
      },
      "source": [
        "asphalt_query = matpad([new_doc_Asphalt], num_topics)[0]\r\n",
        "dictionary_asphalt = corpora.Dictionary(df['tokenized'])"
      ],
      "execution_count": null,
      "outputs": []
    },
    {
      "cell_type": "markdown",
      "metadata": {
        "id": "xQu02DUO86FX"
      },
      "source": [
        "#### Similarities Computation\r\n",
        "Vahanalytics Part"
      ]
    },
    {
      "cell_type": "code",
      "metadata": {
        "id": "pmUaA6MGF4er",
        "colab": {
          "base_uri": "https://localhost:8080/",
          "height": 35
        },
        "outputId": "273e1354-ccb0-48b8-9847-bd2158bf669e"
      },
      "source": [
        "most_sim_ids_vahana = get_top_k_similar_docs(vahana_query, docmat_pad, num_topics, 2000, k=5)\r\n",
        "df.iloc[695][\"description\"]"
      ],
      "execution_count": null,
      "outputs": [
        {
          "output_type": "execute_result",
          "data": {
            "application/vnd.google.colaboratory.intrinsic+json": {
              "type": "string"
            },
            "text/plain": [
              "'Vahanalytics aims to create better drivers and safer roads by using cutting edge big data and machine learning techniques.'"
            ]
          },
          "metadata": {
            "tags": []
          },
          "execution_count": 58
        }
      ]
    },
    {
      "cell_type": "code",
      "metadata": {
        "colab": {
          "base_uri": "https://localhost:8080/",
          "height": 346
        },
        "id": "cySfLI3r9hT2",
        "outputId": "e7f3975a-9790-4af8-fd89-f31756efc5c8"
      },
      "source": [
        "df[df.index.isin(most_sim_ids_vahana)][[\"name\", \"description\"]]"
      ],
      "execution_count": null,
      "outputs": [
        {
          "output_type": "execute_result",
          "data": {
            "text/html": [
              "<div>\n",
              "<style scoped>\n",
              "    .dataframe tbody tr th:only-of-type {\n",
              "        vertical-align: middle;\n",
              "    }\n",
              "\n",
              "    .dataframe tbody tr th {\n",
              "        vertical-align: top;\n",
              "    }\n",
              "\n",
              "    .dataframe thead th {\n",
              "        text-align: right;\n",
              "    }\n",
              "</style>\n",
              "<table border=\"1\" class=\"dataframe\">\n",
              "  <thead>\n",
              "    <tr style=\"text-align: right;\">\n",
              "      <th></th>\n",
              "      <th>name</th>\n",
              "      <th>description</th>\n",
              "    </tr>\n",
              "  </thead>\n",
              "  <tbody>\n",
              "    <tr>\n",
              "      <th>163</th>\n",
              "      <td>MRM Risk Management</td>\n",
              "      <td>MRM specializes in the evaluation, development, and implementation of wrap-up insurance for large public and private construction programs. They help owners and general contractors achieve simplicity, savings and increased safety for their projects. MRM began as a wrap-up consulting firm but quickly expanded its services to include comprehensive oversight management and then full wrap-up administration in response to their clients' requests and needs.</td>\n",
              "    </tr>\n",
              "    <tr>\n",
              "      <th>1038</th>\n",
              "      <td>Koninklijke Mosa</td>\n",
              "      <td>Koninklijke Mosa is a manufacturer of ceramic tiles.  Royal Mosa is a Dutch manufacturer of ceramic tiles. Its factories in Maastricht produce 6 million square metres of wall and floor tiles per year, all destined for Europe, North America, the Middle East and Asia. In its home market, the Netherlands, Royal Mosa is the market leader. The company offers a wide range of tiles in many sizes, colours and designs, both for inside and outside. Royal Mosa works closely with architects and interior designers.</td>\n",
              "    </tr>\n",
              "    <tr>\n",
              "      <th>1476</th>\n",
              "      <td>DynaRoad</td>\n",
              "      <td>DynaRoad provides project management software solutions for heavy construction projects such as civil engineering and infrastructure construction (highways, tunnels, railways, area development, roads, and harbours earthworks). Key features include mass haul optimization, location-based scheduling, production control, and project execution monitoring and control. Provides several graphical views such as Gantt chart, resource graph, mass haul diagram, map view, and time-location chart.</td>\n",
              "    </tr>\n",
              "    <tr>\n",
              "      <th>1655</th>\n",
              "      <td>Steven M. Sweat, APC</td>\n",
              "      <td>Personal injury law firm based in Los Angeles and serving all of the California.  Emphasis in catastrophic bodily harm and wrongful death claims related to the following:  Motor Vehicle Accident Claims - Car Accidents - Motorcycle Collisions - Bicycle Mishaps - Pedestrian Incidents  Injuries Sustained on Commercial or Residential Property - Slip and Falls - Trip and Falls - Assault and Battery - Negligent Security (Bars/Hotels/Restaurants)  Sexual Assault and Abuse - Churches - Schools and other Educational Institutions - Community Organizations</td>\n",
              "    </tr>\n",
              "    <tr>\n",
              "      <th>1987</th>\n",
              "      <td>Equipment One Stop</td>\n",
              "      <td>Equipment One Stop, powered by Reliance Commercial Finance, is an online marketplace for buying and selling construction equipment. Has the option to finance and insure one's equipment. Also, offers valuation calculation reports.</td>\n",
              "    </tr>\n",
              "  </tbody>\n",
              "</table>\n",
              "</div>"
            ],
            "text/plain": [
              "                      name                                                                                                                                                                                                                                                                                                                                                                                                                                                                                                                                                              description\n",
              "163    MRM Risk Management                                                                                                  MRM specializes in the evaluation, development, and implementation of wrap-up insurance for large public and private construction programs. They help owners and general contractors achieve simplicity, savings and increased safety for their projects. MRM began as a wrap-up consulting firm but quickly expanded its services to include comprehensive oversight management and then full wrap-up administration in response to their clients' requests and needs.\n",
              "1038      Koninklijke Mosa                                              Koninklijke Mosa is a manufacturer of ceramic tiles.  Royal Mosa is a Dutch manufacturer of ceramic tiles. Its factories in Maastricht produce 6 million square metres of wall and floor tiles per year, all destined for Europe, North America, the Middle East and Asia. In its home market, the Netherlands, Royal Mosa is the market leader. The company offers a wide range of tiles in many sizes, colours and designs, both for inside and outside. Royal Mosa works closely with architects and interior designers.\n",
              "1476              DynaRoad                                                                 DynaRoad provides project management software solutions for heavy construction projects such as civil engineering and infrastructure construction (highways, tunnels, railways, area development, roads, and harbours earthworks). Key features include mass haul optimization, location-based scheduling, production control, and project execution monitoring and control. Provides several graphical views such as Gantt chart, resource graph, mass haul diagram, map view, and time-location chart.\n",
              "1655  Steven M. Sweat, APC  Personal injury law firm based in Los Angeles and serving all of the California.  Emphasis in catastrophic bodily harm and wrongful death claims related to the following:  Motor Vehicle Accident Claims - Car Accidents - Motorcycle Collisions - Bicycle Mishaps - Pedestrian Incidents  Injuries Sustained on Commercial or Residential Property - Slip and Falls - Trip and Falls - Assault and Battery - Negligent Security (Bars/Hotels/Restaurants)  Sexual Assault and Abuse - Churches - Schools and other Educational Institutions - Community Organizations\n",
              "1987    Equipment One Stop                                                                                                                                                                                                                                                                                                                                    Equipment One Stop, powered by Reliance Commercial Finance, is an online marketplace for buying and selling construction equipment. Has the option to finance and insure one's equipment. Also, offers valuation calculation reports."
            ]
          },
          "metadata": {
            "tags": []
          },
          "execution_count": 59
        }
      ]
    },
    {
      "cell_type": "markdown",
      "metadata": {
        "id": "VsYFcNmQ8_31"
      },
      "source": [
        "Much Asphalt Part"
      ]
    },
    {
      "cell_type": "code",
      "metadata": {
        "colab": {
          "base_uri": "https://localhost:8080/",
          "height": 52
        },
        "id": "iN58Rhiy9XNe",
        "outputId": "e1c69fe0-a702-43bf-e828-765911cd8696"
      },
      "source": [
        "most_sim_ids_asphalt = get_top_k_similar_docs(asphalt_query, docmat_pad, num_topics, 2000, k=5)\r\n",
        "df.iloc[4][\"description\"]"
      ],
      "execution_count": null,
      "outputs": [
        {
          "output_type": "execute_result",
          "data": {
            "application/vnd.google.colaboratory.intrinsic+json": {
              "type": "string"
            },
            "text/plain": [
              "'Much Asphalt is southern Africa’s commercial supplier of an extensive range of hot and cold asphalt products to the road construction economy. Much Asphalt owns and operates 15 static plants in the major centres of South Africa and is the majority shareholder in East Coast Asphalt which operates two more in East London and Mthatha.'"
            ]
          },
          "metadata": {
            "tags": []
          },
          "execution_count": 60
        }
      ]
    },
    {
      "cell_type": "code",
      "metadata": {
        "colab": {
          "base_uri": "https://localhost:8080/",
          "height": 363
        },
        "id": "xNwG2j7Z9khe",
        "outputId": "bbca116e-eea9-44ab-ed1b-71404bd17c79"
      },
      "source": [
        "df[df.index.isin(most_sim_ids_asphalt)][[\"name\", \"description\"]]"
      ],
      "execution_count": null,
      "outputs": [
        {
          "output_type": "execute_result",
          "data": {
            "text/html": [
              "<div>\n",
              "<style scoped>\n",
              "    .dataframe tbody tr th:only-of-type {\n",
              "        vertical-align: middle;\n",
              "    }\n",
              "\n",
              "    .dataframe tbody tr th {\n",
              "        vertical-align: top;\n",
              "    }\n",
              "\n",
              "    .dataframe thead th {\n",
              "        text-align: right;\n",
              "    }\n",
              "</style>\n",
              "<table border=\"1\" class=\"dataframe\">\n",
              "  <thead>\n",
              "    <tr style=\"text-align: right;\">\n",
              "      <th></th>\n",
              "      <th>name</th>\n",
              "      <th>description</th>\n",
              "    </tr>\n",
              "  </thead>\n",
              "  <tbody>\n",
              "    <tr>\n",
              "      <th>135</th>\n",
              "      <td>Mover</td>\n",
              "      <td>MOVER is a mobile city service for finding and selecting trucks and integrated crossings. The first mobile service that provides services for the organization of complex crossings and cargo transportation in Moscow and the Moscow region.</td>\n",
              "    </tr>\n",
              "    <tr>\n",
              "      <th>858</th>\n",
              "      <td>Flinders Group</td>\n",
              "      <td>Flinders Group provides planning and project management services within water, energy, transportation, environment, telecommunications, property, mining, building, and social infrastructures. It offers services in the areas, such as project management, environment and approvals, land management, land access negotiations and management training courses, property and planning, communications and stakeholder engagements, and indigenous areas.</td>\n",
              "    </tr>\n",
              "    <tr>\n",
              "      <th>1094</th>\n",
              "      <td>Premier Logistics Partners</td>\n",
              "      <td>Premier Logistics Partners is a progressive leader in the logistics industry in the United States. Premier Logistics Partners' core business is procuring, negotiating, and managing less-than-truckload (LTL) transportation for its clients.</td>\n",
              "    </tr>\n",
              "    <tr>\n",
              "      <th>1095</th>\n",
              "      <td>trans-o-flex Belgium BVBA</td>\n",
              "      <td>trans-o-flex Belgium BVBA provides business to business logistic services and ships parcels and pallets.</td>\n",
              "    </tr>\n",
              "    <tr>\n",
              "      <th>1176</th>\n",
              "      <td>Scotshield Fire &amp; Security</td>\n",
              "      <td>Scotshield Fire &amp; Security is a leading UK independent service provider for all Fire Safety, Life Safety and Electronic Security Systems. Established in 1989 and with 25 years industry experience, Scotshield Fire &amp; Security is recognised as a market leading specialist in the fire and security systems industry where we have gained a solid reputation for high standards of service delivery nationwide.</td>\n",
              "    </tr>\n",
              "  </tbody>\n",
              "</table>\n",
              "</div>"
            ],
            "text/plain": [
              "                            name                                                                                                                                                                                                                                                                                                                                                                                                                                                   description\n",
              "135                        Mover                                                                                                                                                                                                                 MOVER is a mobile city service for finding and selecting trucks and integrated crossings. The first mobile service that provides services for the organization of complex crossings and cargo transportation in Moscow and the Moscow region.\n",
              "858               Flinders Group  Flinders Group provides planning and project management services within water, energy, transportation, environment, telecommunications, property, mining, building, and social infrastructures. It offers services in the areas, such as project management, environment and approvals, land management, land access negotiations and management training courses, property and planning, communications and stakeholder engagements, and indigenous areas. \n",
              "1094  Premier Logistics Partners                                                                                                                                                                                                                Premier Logistics Partners is a progressive leader in the logistics industry in the United States. Premier Logistics Partners' core business is procuring, negotiating, and managing less-than-truckload (LTL) transportation for its clients.\n",
              "1095   trans-o-flex Belgium BVBA                                                                                                                                                                                                                                                                                                                                                      trans-o-flex Belgium BVBA provides business to business logistic services and ships parcels and pallets.\n",
              "1176  Scotshield Fire & Security                                             Scotshield Fire & Security is a leading UK independent service provider for all Fire Safety, Life Safety and Electronic Security Systems. Established in 1989 and with 25 years industry experience, Scotshield Fire & Security is recognised as a market leading specialist in the fire and security systems industry where we have gained a solid reputation for high standards of service delivery nationwide."
            ]
          },
          "metadata": {
            "tags": []
          },
          "execution_count": 61
        }
      ]
    },
    {
      "cell_type": "code",
      "metadata": {
        "id": "pBoJBWpV_Jjc"
      },
      "source": [
        ""
      ],
      "execution_count": null,
      "outputs": []
    }
  ]
}